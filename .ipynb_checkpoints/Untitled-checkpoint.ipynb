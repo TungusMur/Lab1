{
 "cells": [
  {
   "cell_type": "code",
   "execution_count": 12,
   "id": "79c0020a",
   "metadata": {},
   "outputs": [],
   "source": [
    "#imports\n",
    "!pip install ipywidgets==7.6.4 --quiet\n",
    "from ipywidgets import FileUpload, Image, HBox"
   ]
  },
  {
   "cell_type": "code",
   "execution_count": 13,
   "id": "a9c040a8",
   "metadata": {},
   "outputs": [],
   "source": [
    "def display_uploaded_screenshots(screenshots):\n",
    "\n",
    "    images = [Image(value=i) for i in screenshots]\n",
    "    ## Side by side thanks to HBox widgets\n",
    "    sidebyside = HBox(images)\n",
    "    ## Finally, show.\n",
    "    display(sidebyside)"
   ]
  },
  {
   "cell_type": "code",
   "execution_count": 16,
   "id": "e3a8f6bd",
   "metadata": {},
   "outputs": [
    {
     "data": {
      "application/vnd.jupyter.widget-view+json": {
       "model_id": "622a7125b80740af96ce1ae9e39a19b0",
       "version_major": 2,
       "version_minor": 0
      },
      "text/plain": [
       "FileUpload(value={}, accept='image/*', description='Upload', multiple=True)"
      ]
     },
     "metadata": {},
     "output_type": "display_data"
    }
   ],
   "source": [
    "# Прикрепите файлы с изображениями\n",
    "uploader = FileUpload(accept = 'image/*', multiple = True)\n",
    "display(uploader)"
   ]
  },
  {
   "cell_type": "code",
   "execution_count": 17,
   "id": "e3401783",
   "metadata": {},
   "outputs": [
    {
     "data": {
      "application/vnd.jupyter.widget-view+json": {
       "model_id": "941dcfd47412429bb21fedb71169a6b0",
       "version_major": 2,
       "version_minor": 0
      },
      "text/plain": [
       "HBox(children=(Image(value=b'\\x89PNG\\r\\n\\x1a\\n\\x00\\x00\\x00\\rIHDR\\x00\\x00\\x07}\\x00\\x00\\x04\\x00\\x08\\x06\\x00\\x00\\…"
      ]
     },
     "metadata": {},
     "output_type": "display_data"
    }
   ],
   "source": [
    "# Отобразит скриншоты. Вверху скрытая под тремя точками ячейка с функцией для отображения. Можете что-нибудь там поменять, если вам не нравится вывод. \n",
    "display_uploaded_screenshots(uploader.data)"
   ]
  },
  {
   "cell_type": "code",
   "execution_count": null,
   "id": "9595d299",
   "metadata": {},
   "outputs": [],
   "source": []
  }
 ],
 "metadata": {
  "kernelspec": {
   "display_name": "Python 3",
   "language": "python",
   "name": "python3"
  },
  "language_info": {
   "codemirror_mode": {
    "name": "ipython",
    "version": 3
   },
   "file_extension": ".py",
   "mimetype": "text/x-python",
   "name": "python",
   "nbconvert_exporter": "python",
   "pygments_lexer": "ipython3",
   "version": "3.8.8"
  }
 },
 "nbformat": 4,
 "nbformat_minor": 5
}
